{
 "cells": [
  {
   "cell_type": "code",
   "execution_count": 1,
   "metadata": {},
   "outputs": [],
   "source": [
    "from selenium import webdriver"
   ]
  },
  {
   "cell_type": "code",
   "execution_count": 2,
   "metadata": {},
   "outputs": [],
   "source": [
    "driver=webdriver.Chrome(executable_path=\"browserWebDrivers/chromedriver.exe\")\n",
    "#driver=webdriver.Firefox(executable_path=\"geckodriver.exe\")\n",
    "driver.get(\"http://www.in.gr\")\n",
    "driver.get(\"http://www.lifo.com\")\n",
    "driver.back()\n",
    "title=driver.title\n",
    "current_url=driver.current_url\n",
    "driver.close()"
   ]
  },
  {
   "cell_type": "code",
   "execution_count": null,
   "metadata": {},
   "outputs": [],
   "source": [
    "#If you want to go the back page \n",
    "# driver.back()\n",
    "\n",
    "#If you want to refresh the page\n",
    "# driver.refresh()\n",
    "\n",
    "#If you want to maximize window\n",
    "# driver.maximize_window()\n",
    "\n",
    "#If you want to minimize window\n",
    "# driver.minimize_window()"
   ]
  },
  {
   "cell_type": "markdown",
   "metadata": {},
   "source": [
    "###### Locators"
   ]
  },
  {
   "cell_type": "code",
   "execution_count": null,
   "metadata": {},
   "outputs": [],
   "source": [
    "# Finding element by name value\n",
    "# driver.find_element_by_name(nameValue)\n",
    "\n",
    "# Finding element by id\n",
    "# driver.find_element_by_id(idValue)\n",
    "\n",
    "#Finding element by class name\n",
    "# driver.find_element_by_class_name(\"className\")\n",
    "\n",
    "#finding element by link name (if tagname is link -> a)\n",
    "# driver.find_element_by_link_text(\"linkText\")\n",
    "\n",
    "# Finding element by css selector -> tagname[attribute=\"value\"] --tagname optional\n",
    "#                                 -> input[name='nameValue']\n",
    "# for Regex -> input[name*='nameValue']\n",
    "# css selector for id -> #IdNAME\n",
    "# css selector for class name-> .className\n",
    "# for going to child add space after parent -> input[name='nameValue'] tagValueOfChild -> input[name='nameValue'] div\n",
    "# for going to a specific child \"input[name='nameValue'] div:nth-child(1)\" <- in the parenthesis the index\n",
    "# if multiple elements have been found only in the first one we will use to send keys or click\n",
    "# javascript css selector: $(\"input[name='nameValue']\")\n",
    "# driver.find_element_by_css_selector()\n",
    "\n",
    "\n",
    "# Finding element by xpath -> //tagname[@attribute=value] --tagname optional\n",
    "#                                 -> //input[@name='nameValue']\n",
    "# for Regex -> //input[contains(@name,'nameValue')]\n",
    "# for optional tagname //*[contains(@name,'nameValue')]\n",
    "# for finding by text value -> //input[text()=\"value\"]\n",
    "# for going to child -> //input[text()=\"value\"]/tagValueOfChild -> //input[text()=\"value\"]/div\n",
    "# going to the child can also have array behavior -> //input[text()=\"value\"]/div[1]\n",
    "# if multiple elements have been found only in the first one we will use to send keys or click\n",
    "# javascript css selector: $x(\"//input[@name='nameValue']\")\n",
    "# driver.find_element_by_xpath()\n",
    "# plugin ChroPath helps a lot\n",
    "\n",
    "# We can also have find_elements_by_xpath (for example) for finding multiple elements"
   ]
  },
  {
   "cell_type": "markdown",
   "metadata": {},
   "source": [
    "###### Dropdown handling\n"
   ]
  },
  {
   "cell_type": "code",
   "execution_count": 5,
   "metadata": {},
   "outputs": [],
   "source": [
    "# For selecting a value in a dropdown\n",
    "# from selenium.webdriver.support.select import Select\n",
    "# dropdown=Select(element)\n",
    "# where element=driver.find_element_by_...(value) <- locator\n",
    "\n",
    "# for selecting by text\n",
    "# dropdown.select_by_visible_text(textValue)\n",
    "\n",
    "# for selecting by index (1st value, 2nd value etc)\n",
    "# dropdown.select_by_index(0)\n",
    "\n",
    "# for selecting by value (after inspecting HTML)\n",
    "# dropdown.select_by_value(value)"
   ]
  },
  {
   "cell_type": "markdown",
   "metadata": {},
   "source": [
    "###### Actions after element has been found"
   ]
  },
  {
   "cell_type": "code",
   "execution_count": null,
   "metadata": {},
   "outputs": [],
   "source": [
    "# For typing in a textbox\n",
    "# element.send_keys(value)\n",
    "\n",
    "# For clicking a button or chechbox\n",
    "# element.click()\n",
    "\n",
    "# clearing the text of an element\n",
    "# element.clear()\n",
    "\n",
    "# getting the text of the element\n",
    "# element.text\n",
    "\n",
    "# getting a specific attribute of element\n",
    "# element.get_attribute(attribute)\n",
    "# example: element.get_attribute(\"value\")\n",
    "\n",
    "#checking if a checkbox is selected\n",
    "# element.is_selected()"
   ]
  },
  {
   "cell_type": "markdown",
   "metadata": {},
   "source": [
    "###### Java or Javascript Alerts"
   ]
  },
  {
   "cell_type": "code",
   "execution_count": null,
   "metadata": {},
   "outputs": [],
   "source": [
    "# To be able to access the alerts\n",
    "# alert= driver.switch_to.alert\n",
    "# The text of the alert: alert.text\n",
    "# For clicking on the OK -> alert.accept()\n",
    "# For clicking on the cancel -> alert.dismiss()"
   ]
  },
  {
   "cell_type": "markdown",
   "metadata": {},
   "source": [
    "###### Waits in selenium"
   ]
  },
  {
   "cell_type": "code",
   "execution_count": 1,
   "metadata": {},
   "outputs": [],
   "source": [
    "# Twe types implicit waits and explicit waits"
   ]
  },
  {
   "cell_type": "code",
   "execution_count": null,
   "metadata": {},
   "outputs": [],
   "source": []
  }
 ],
 "metadata": {
  "kernelspec": {
   "display_name": "Python 3",
   "language": "python",
   "name": "python3"
  },
  "language_info": {
   "codemirror_mode": {
    "name": "ipython",
    "version": 3
   },
   "file_extension": ".py",
   "mimetype": "text/x-python",
   "name": "python",
   "nbconvert_exporter": "python",
   "pygments_lexer": "ipython3",
   "version": "3.8.3"
  }
 },
 "nbformat": 4,
 "nbformat_minor": 4
}
